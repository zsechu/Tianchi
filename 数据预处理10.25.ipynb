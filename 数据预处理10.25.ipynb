{
 "cells": [
  {
   "cell_type": "code",
   "execution_count": null,
   "metadata": {},
   "outputs": [],
   "source": [
    "import pandas as pd\n",
    "import numpy as np\n",
    "\n",
    "from sklearn.metrics import mean_squared_error\n",
    "from sklearn.preprocessing import LabelEncoder\n",
    "from sklearn.model_selection import TimeSeriesSplit\n",
    "\n",
    "import lightgbm as lgb\n",
    "from lightgbm import LGBMRegressor\n",
    "\n",
    "\n",
    "# from tool.tool import describe\n",
    "\n",
    "from matplotlib import pyplot as plt\n",
    "from matplotlib import style\n",
    "\n",
    "import seaborn as sns\n",
    "style.use('seaborn-dark')\n",
    "from scipy import stats\n",
    "\n",
    "from datetime import date,timedelta\n",
    "import time\n",
    "\n",
    "import pandas as pd\n",
    "import numpy as np\n",
    "import seaborn as sns \n",
    "import matplotlib.pyplot as plt\n",
    "plt.rcParams['figure.figsize'] = [16, 10]"
   ]
  },
  {
   "cell_type": "code",
   "execution_count": null,
   "metadata": {},
   "outputs": [],
   "source": [
    "temp = pd.read_csv(\"./data2/temp.csv\")\n",
    "wind = pd.read_csv(\"./data2/wind.csv\")\n",
    "sunshine = pd.read_csv(\"./data2/sunshine.csv\")"
   ]
  },
  {
   "cell_type": "code",
   "execution_count": null,
   "metadata": {},
   "outputs": [],
   "source": [
    "temp.shape,wind.shape,sunshine.shape    # 数据维度跟赛题数据都对得上"
   ]
  },
  {
   "cell_type": "code",
   "execution_count": null,
   "metadata": {},
   "outputs": [],
   "source": [
    "all_data"
   ]
  },
  {
   "cell_type": "code",
   "execution_count": null,
   "metadata": {},
   "outputs": [],
   "source": [
    "wind_and_temp = wind.merge(temp,on=[\"Day\",\"Hour\"])\n",
    "all_data = wind_and_temp.merge(sunshine,on=[\"Day\",\"Hour\"],how=\"outer\")\n",
    "# 有2个奇怪的Variable，替换为nan\n",
    "all_data[\"Dir\"][2809] = np.nan\n",
    "all_data[\"Dir\"][3044] = np.nan\n",
    "all_data[\"Dir\"] = all_data[\"Dir\"].apply(pd.to_numeric)\n",
    "all_data[\"Temp\"] = all_data[\"Temp\"].interpolate()\n",
    "all_data[\"Spd\"] = all_data[\"Spd\"].interpolate()\n",
    "# all_data[\"Dir\"] = all_data[\"Dir\"].fillna(np.float64(all_data[\"Dir\"].mode()))\n",
    "all_data['Radiation'] = all_data['Radiation'].fillna(0)\n",
    "date = pd.date_range(start='2023-06-01 01:00:00',periods=7200,freq='H')\n",
    "all_data['date'] = date"
   ]
  },
  {
   "cell_type": "code",
   "execution_count": null,
   "metadata": {},
   "outputs": [],
   "source": [
    "pd.Series(all_data[\"Dir\"].mode)"
   ]
  },
  {
   "cell_type": "code",
   "execution_count": null,
   "metadata": {},
   "outputs": [],
   "source": [
    "all_data[\"Dir\"]"
   ]
  },
  {
   "cell_type": "code",
   "execution_count": null,
   "metadata": {},
   "outputs": [],
   "source": [
    "all_data.info()"
   ]
  },
  {
   "cell_type": "code",
   "execution_count": null,
   "metadata": {},
   "outputs": [],
   "source": [
    "# all_data.to_csv(\"./data2/数据预处理10.25.csv\",index=False)"
   ]
  },
  {
   "cell_type": "markdown",
   "metadata": {},
   "source": [
    "# 完成数据预处理"
   ]
  },
  {
   "cell_type": "code",
   "execution_count": null,
   "metadata": {},
   "outputs": [],
   "source": []
  },
  {
   "cell_type": "code",
   "execution_count": null,
   "metadata": {},
   "outputs": [],
   "source": []
  },
  {
   "cell_type": "code",
   "execution_count": null,
   "metadata": {},
   "outputs": [],
   "source": []
  },
  {
   "cell_type": "code",
   "execution_count": null,
   "metadata": {},
   "outputs": [],
   "source": []
  },
  {
   "cell_type": "code",
   "execution_count": null,
   "metadata": {},
   "outputs": [],
   "source": [
    "all_data[all_data[\"Temp\"].isnull()]"
   ]
  },
  {
   "cell_type": "code",
   "execution_count": null,
   "metadata": {},
   "outputs": [],
   "source": [
    "plt.scatter(all_data[all_data[\"Dir\"].isnull()].index,[1]*222,s=5)"
   ]
  },
  {
   "cell_type": "code",
   "execution_count": null,
   "metadata": {},
   "outputs": [],
   "source": []
  },
  {
   "cell_type": "code",
   "execution_count": null,
   "metadata": {},
   "outputs": [],
   "source": []
  },
  {
   "cell_type": "code",
   "execution_count": null,
   "metadata": {},
   "outputs": [],
   "source": []
  },
  {
   "cell_type": "markdown",
   "metadata": {},
   "source": [
    "导入初赛data"
   ]
  },
  {
   "cell_type": "code",
   "execution_count": null,
   "metadata": {},
   "outputs": [],
   "source": [
    "temp2 = pd.read_csv(\"/Users/ZCH/Documents/vscode/competition/data/temp.csv\")\n",
    "wind2 = pd.read_csv(\"/Users/ZCH/Documents/vscode/competition/data/wind.csv\")\n",
    "sunshine2 = pd.read_csv(\"/Users/ZCH/Documents/vscode/competition/data/sunshine.csv\")\n",
    "\n",
    "wind_and_temp2 = wind2.merge(temp2,on=[\"Day\",\"Hour\"])\n",
    "all_data2 = wind_and_temp2.merge(sunshine2,on=[\"Day\",\"Hour\"],how=\"outer\")\n",
    "all_data2"
   ]
  },
  {
   "cell_type": "markdown",
   "metadata": {},
   "source": [
    "# 初赛复赛数据分布对比"
   ]
  },
  {
   "cell_type": "code",
   "execution_count": null,
   "metadata": {},
   "outputs": [],
   "source": [
    "sns.distplot(all_data2[\"Temp\"],bins=50,label=\"chu\")  # 这里的数据没有填充\n",
    "sns.distplot(all_data[\"Temp\"],bins=50,label=\"fu\")  # 这里的数据没有填充\n",
    "plt.legend(loc=0)"
   ]
  },
  {
   "cell_type": "code",
   "execution_count": null,
   "metadata": {},
   "outputs": [],
   "source": [
    "sns.distplot(all_data2[\"Spd\"],bins=50,label=\"chu\")  # 这里的数据没有填充\n",
    "sns.distplot(all_data[\"Spd\"],bins=50,label=\"fu\")  # 这里的数据没有填充\n",
    "plt.legend(loc=0)"
   ]
  },
  {
   "cell_type": "code",
   "execution_count": null,
   "metadata": {},
   "outputs": [],
   "source": [
    "all_data.describe()"
   ]
  },
  {
   "cell_type": "code",
   "execution_count": null,
   "metadata": {},
   "outputs": [],
   "source": [
    "all_data2.describe()"
   ]
  },
  {
   "cell_type": "markdown",
   "metadata": {},
   "source": [
    "# 初赛复赛结果对比\n",
    "* Radiation变大了，分布更加不均匀了\n",
    "* Spd and Temp 分布变得不一样了\n",
    "* 仍然有少部分的缺失值"
   ]
  },
  {
   "cell_type": "code",
   "execution_count": null,
   "metadata": {},
   "outputs": [],
   "source": []
  }
 ],
 "metadata": {
  "kernelspec": {
   "display_name": "Python 3.9.13",
   "language": "python",
   "name": "python3"
  },
  "language_info": {
   "codemirror_mode": {
    "name": "ipython",
    "version": 3
   },
   "file_extension": ".py",
   "mimetype": "text/x-python",
   "name": "python",
   "nbconvert_exporter": "python",
   "pygments_lexer": "ipython3",
   "version": "3.9.13"
  },
  "orig_nbformat": 4,
  "vscode": {
   "interpreter": {
    "hash": "f5bcff1009bd0b8d5d29c38b55165c97510dc4ebe32fbd78e3def37853c7c76a"
   }
  }
 },
 "nbformat": 4,
 "nbformat_minor": 2
}
